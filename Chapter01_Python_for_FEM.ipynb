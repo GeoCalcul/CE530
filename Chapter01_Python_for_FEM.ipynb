{
 "cells": [
  {
   "cell_type": "markdown",
   "id": "01b01812",
   "metadata": {},
   "source": [
    "# Chapter 01 — Python & Linear Algebra for Finite Elements\n",
    "\n",
    "**Duration:** ~3 hours  \n",
    "**Focus:** Essential Python and matrix operations needed for Finite Element Method (FEM).\n",
    "\n",
    "### Learning outcomes\n",
    "By the end, you will be able to:\n",
    "- Set up and use Python with NumPy for vector/matrix math.\n",
    "- Assemble and solve linear systems $A\\,x=b$.\n",
    "- Understand dense vs. sparse storage and when each is appropriate.\n",
    "- Plot basic results for quick checks.\n",
    "- Implement a tiny 1D bar FEM from scratch (stiffness assembly, BCs, solve)."
   ]
  },
  {
   "cell_type": "markdown",
   "id": "bbaee197",
   "metadata": {},
   "source": [
    "## 0. Setup"
   ]
  },
  {
   "cell_type": "code",
   "execution_count": null,
   "id": "71228bf0",
   "metadata": {},
   "outputs": [],
   "source": [
    "import sys, math\n",
    "print(sys.version)\n",
    "try:\n",
    "    import numpy as np\n",
    "    import matplotlib.pyplot as plt\n",
    "    print('NumPy:', np.__version__)\n",
    "except Exception as e:\n",
    "    raise SystemExit('This notebook requires NumPy and Matplotlib.')\n",
    "\n",
    "# Optional: SciPy for sparse matrices (not strictly required for small examples)\n",
    "try:\n",
    "    import scipy\n",
    "    import scipy.sparse as sp\n",
    "    import scipy.sparse.linalg as spla\n",
    "    HAS_SCIPY = True\n",
    "    print('SciPy:', scipy.__version__)\n",
    "except Exception:\n",
    "    HAS_SCIPY = False\n",
    "    print('SciPy not available — examples will fall back to dense matrices for small N.')"
   ]
  },
  {
   "cell_type": "markdown",
   "id": "2ddd28a3",
   "metadata": {},
   "source": [
    "## 1. Python quick primer (for scientific computing)"
   ]
  },
  {
   "cell_type": "code",
   "execution_count": null,
   "id": "dfcb36f1",
   "metadata": {},
   "outputs": [],
   "source": [
    "# Basic types & containers\n",
    "x = 3.0                # float\n",
    "i = 5                  # int\n",
    "v_list = [1, 2, 3]     # Python list\n",
    "t_tuple = (4, 5, 6)    # tuple (immutable)\n",
    "print(x, type(x)); print(i, type(i)); print(v_list, type(v_list)); print(t_tuple, type(t_tuple))\n",
    "\n",
    "# Vectorization with NumPy\n",
    "import numpy as np\n",
    "v = np.array([1., 2., 3.])\n",
    "w = np.array([4., 5., 6.])\n",
    "print('v + w =', v + w)\n",
    "print('v · w =', v @ w)         # dot product\n",
    "print('‖v‖2  =', np.linalg.norm(v))"
   ]
  },
  {
   "cell_type": "markdown",
   "id": "b3941fb7",
   "metadata": {},
   "source": [
    "## 2. Matrix creation & operations"
   ]
  },
  {
   "cell_type": "code",
   "execution_count": null,
   "id": "bf0e4bd1",
   "metadata": {},
   "outputs": [],
   "source": [
    "A = np.array([[2., -1., 0.],\n",
    "              [-1., 2., -1.],\n",
    "              [0., -1., 2.]])\n",
    "b = np.array([1., 0., 1.])\n",
    "print('A =\\n', A)\n",
    "print('b =', b)\n",
    "\n",
    "# Solve Ax=b\n",
    "x = np.linalg.solve(A, b)\n",
    "print('Solution x =', x)\n",
    "\n",
    "# Check residual r = Ax - b\n",
    "r = A @ x - b\n",
    "print('Residual ‖r‖2 =', np.linalg.norm(r))\n",
    "\n",
    "# Useful helpers\n",
    "print('A.T =\\n', A.T)\n",
    "print('Symmetric?', np.allclose(A, A.T))\n",
    "print('Condition number κ(A) =', np.linalg.cond(A))"
   ]
  },
  {
   "cell_type": "markdown",
   "id": "8677d507",
   "metadata": {},
   "source": [
    "## 3. Indexing, slicing, broadcasting"
   ]
  },
  {
   "cell_type": "code",
   "execution_count": null,
   "id": "e4fcaa45",
   "metadata": {},
   "outputs": [],
   "source": [
    "u = np.arange(10.)  # [0,1,...,9]\n",
    "print('u      =', u)\n",
    "print('u[2:7] =', u[2:7])\n",
    "print('u[::2] =', u[::2])\n",
    "\n",
    "# Boolean masking\n",
    "mask = (u % 2 == 0)\n",
    "print('even mask   =', mask)\n",
    "print('u[mask]     =', u[mask])\n",
    "\n",
    "# Broadcasting example: add row vector to each row\n",
    "M = np.ones((3,4))\n",
    "row = np.array([0.,1.,2.,3.])\n",
    "print('M + row =\\n', M + row)"
   ]
  },
  {
   "cell_type": "markdown",
   "id": "66d116c8",
   "metadata": {},
   "source": [
    "## 4. Dense vs. sparse matrices"
   ]
  },
  {
   "cell_type": "code",
   "execution_count": null,
   "id": "366a6343",
   "metadata": {},
   "outputs": [],
   "source": [
    "def tridiag(n, a=-1.0, b=2.0, c=-1.0, sparse=False):\n",
    "    if sparse and HAS_SCIPY:\n",
    "        diags = [a*np.ones(n-1), b*np.ones(n), c*np.ones(n-1)]\n",
    "        return sp.diags(diags, offsets=[-1,0,1], format='csr')\n",
    "    else:\n",
    "        A = np.zeros((n,n))\n",
    "        for i in range(n):\n",
    "            A[i,i] = b\n",
    "            if i>0:   A[i,i-1] = a\n",
    "            if i<n-1: A[i,i+1] = c\n",
    "        return A\n",
    "\n",
    "n = 10\n",
    "A_dense = tridiag(n, sparse=False)\n",
    "print('Dense example shape:', A_dense.shape)\n",
    "if HAS_SCIPY:\n",
    "    A_sparse = tridiag(n, sparse=True)\n",
    "    print('Sparse example (CSR):', A_sparse.shape, '| nnz =', A_sparse.nnz)\n",
    "else:\n",
    "    print('SciPy not available: skipping sparse demo')"
   ]
  },
  {
   "cell_type": "markdown",
   "id": "0d9f19f3",
   "metadata": {},
   "source": [
    "## 5. Mini FEM: 1D bar with 2-node linear elements"
   ]
  },
  {
   "cell_type": "markdown",
   "id": "abf4b098",
   "metadata": {},
   "source": [
    "We solve $-(EA\\,u')' = f$ on $x\\in[0,L]$ with $u(0)=0$ and a traction $t$ at $x=L$.\n",
    "Assembly steps:\n",
    "1. Discretize the domain into $N_e$ elements (uniform).\n",
    "2. For each element, local stiffness $k_e = \\dfrac{EA}{h} \\begin{bmatrix} 1 & -1\\\\ -1 & 1\\end{bmatrix}$ and load $f_e$ (here taken as constant body force or zero).\n",
    "3. Scatter-add into global $K$ and $f$.\n",
    "4. Apply Dirichlet BC at node 0 (clamped): remove row/col or enforce with penalty.\n",
    "5. Solve $K\\,u=f$ and post-process strain $\\varepsilon$ and stress $\\sigma=E\\,\\varepsilon$."
   ]
  },
  {
   "cell_type": "code",
   "execution_count": null,
   "id": "173e4c56",
   "metadata": {},
   "outputs": [],
   "source": [
    "def fem_1d_bar(E=210e9, A=1e-4, L=1.0, Ne=10, body=0.0, traction=1000.0):\n",
    "    import numpy as np\n",
    "    nn = Ne + 1\n",
    "    h  = L / Ne\n",
    "    K  = np.zeros((nn, nn))\n",
    "    f  = np.zeros(nn)\n",
    "\n",
    "    ke = (E*A/h) * np.array([[1., -1.],\n",
    "                             [-1., 1.]])\n",
    "    fe_body = (body*h/2.0) * np.array([1., 1.])\n",
    "\n",
    "    # Assembly\n",
    "    for e in range(Ne):\n",
    "        n1, n2 = e, e+1\n",
    "        dofs = [n1, n2]\n",
    "        K[np.ix_(dofs, dofs)] += ke\n",
    "        f[dofs] += fe_body\n",
    "\n",
    "    # Traction at x=L (Neumann)\n",
    "    f[-1] += traction\n",
    "\n",
    "    # Dirichlet BC: u(0)=0 (remove row/col)\n",
    "    K = K[1:,1:]\n",
    "    f = f[1:]\n",
    "\n",
    "    u_free = np.linalg.solve(K, f)\n",
    "    u = np.concatenate(([0.0], u_free))\n",
    "    x = np.linspace(0., L, nn)\n",
    "\n",
    "    # Element strains & stresses (constant per element for linear 2-node)\n",
    "    strain = np.diff(u)/h\n",
    "    stress = E*strain\n",
    "    x_mid  = x[:-1] + 0.5*h\n",
    "    return x, u, x_mid, strain, stress\n",
    "\n",
    "x, u, x_mid, eps, sig = fem_1d_bar(Ne=20)\n",
    "print('Max displacement:', u.max())\n",
    "print('Max stress      :', abs(sig).max())"
   ]
  },
  {
   "cell_type": "markdown",
   "id": "b2a4b075",
   "metadata": {},
   "source": [
    "### Plotting displacement and stress"
   ]
  },
  {
   "cell_type": "code",
   "execution_count": null,
   "id": "afc28161",
   "metadata": {},
   "outputs": [],
   "source": [
    "import matplotlib.pyplot as plt\n",
    "plt.figure()\n",
    "plt.plot(x, u, marker='o')\n",
    "plt.xlabel('x [m]'); plt.ylabel('displacement u [m]'); plt.title('1D bar — displacement')\n",
    "plt.show()\n",
    "\n",
    "plt.figure()\n",
    "plt.plot(x_mid, sig, marker='s')\n",
    "plt.xlabel('x [m]'); plt.ylabel('stress σ [Pa]'); plt.title('1D bar — stress (piecewise-constant)')\n",
    "plt.show()"
   ]
  },
  {
   "cell_type": "markdown",
   "id": "5d420179",
   "metadata": {},
   "source": [
    "## 6. Exercises (in-class / homework)"
   ]
  },
  {
   "cell_type": "markdown",
   "id": "6373a7df",
   "metadata": {},
   "source": [
    "1. **Vector & matrix warm‑up:**\n",
    "   - Create a random SPD matrix `A` (e.g., `A = M.T@M + αI`) and a vector `b`, then solve `Ax=b`. Report the residual norm.\n",
    "2. **Conditioning:**\n",
    "   - Build `A=tridiag(n)` for `n=20,40,80`. Compute `cond(A)` and discuss the trend.\n",
    "3. **Sparse practice (if SciPy available):**\n",
    "   - Use CSR to build a 1D Poisson matrix with Dirichlet BCs and solve using `spla.spsolve`.\n",
    "4. **FEM extension:**\n",
    "   - Modify `fem_1d_bar` to include a uniform body force density `body≠0`.\n",
    "   - Change boundary conditions to `u(0)=0` and specified displacement `u(L)=u0` (both Dirichlet) using row/column elimination or a penalty method.\n",
    "5. **Verification:**\n",
    "   - For `body=0`, compare `u(x)` against the analytical solution for a bar under end load `t`: `u(x)=t x/(E A)`.\n"
   ]
  },
  {
   "cell_type": "markdown",
   "id": "b0f07bdc",
   "metadata": {},
   "source": [
    "---\n",
    "**Instructor note:** You can add solution cells below as needed or distribute a separate solution key."
   ]
  }
 ],
 "metadata": {},
 "nbformat": 4,
 "nbformat_minor": 5
}
