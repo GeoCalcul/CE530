{
 "cells": [
  {
   "cell_type": "markdown",
   "id": "5cef359f",
   "metadata": {},
   "source": [
    "# Chapter 01 — Python, Linear Algebra, and Numerical Modeling (for FEM)\n",
    "\n",
    "**Duration:** ~3 hours (with optional extras)  \n",
    "**Audience:** Students with varying programming/math backgrounds  \n",
    "**Goal:** Build the minimum Python + linear algebra toolkit and the mental model of *numerical modeling* you need before assembling finite elements.\n",
    "\n",
    "---\n",
    "### Table of Contents\n",
    "1. What libraries we use (and why)\n",
    "2. Numerical modeling primer (big picture)\n",
    "3. Linear algebra crash course for FEM\n",
    "4. Floating-point arithmetic: precision, stability, and pitfalls\n",
    "5. Python quick primer (scientific computing)\n",
    "6. Matrix creation & operations in NumPy\n",
    "7. Indexing, slicing, and broadcasting\n",
    "8. Dense vs. sparse matrices (and formats)\n",
    "9. Solving linear systems: direct vs. iterative\n",
    "10. Boundary conditions and constraints (Dirichlet/Neumann/Penalty)\n",
    "11. Mini FEM: 1D bar with 2-node elements\n",
    "12. Exercises (practice)\n",
    "\n",
    "Use this notebook interactively—run, edit, and experiment. ✨"
   ]
  },
  {
   "cell_type": "markdown",
   "id": "c66e7648",
   "metadata": {},
   "source": [
    "## 1. What libraries we use (and why)"
   ]
  },
  {
   "cell_type": "markdown",
   "id": "f90fae6c",
   "metadata": {},
   "source": [
    "**NumPy**\n",
    "- Core library for arrays, vectors, and matrices in Python.\n",
    "- Provides fast linear algebra (wrapping optimized BLAS/LAPACK).\n",
    "- We use it to assemble and manipulate vectors/matrices: `@` for matrix–vector products, `np.linalg.solve` for small systems.\n",
    "\n",
    "**SciPy** (optional but highly recommended)\n",
    "- Builds on NumPy and adds scientific algorithms (optimization, integration, signal processing).\n",
    "- For FEM, the key bit is `scipy.sparse`: sparse matrices (`csr`, `coo`) and solvers (`spsolve`, iterative methods).\n",
    "- Use when your global stiffness matrix is large and sparse.\n",
    "\n",
    "**Matplotlib**\n",
    "- Basic plotting—good for quick sanity checks and result visualization.\n",
    "- We'll use it to plot displacement/stress in simple 1D examples.\n",
    "\n",
    "**When to use which?**\n",
    "- **Small demos (< few thousand DoF):** Dense NumPy is fine.\n",
    "- **Realistic FEM (10⁴–10⁶ DoF):** Use SciPy sparse + iterative solvers; avoid building full dense matrices."
   ]
  },
  {
   "cell_type": "markdown",
   "id": "d66fccc6",
   "metadata": {},
   "source": [
    "## 2. Numerical modeling primer (big picture)"
   ]
  },
  {
   "cell_type": "markdown",
   "id": "fb88ccdc",
   "metadata": {},
   "source": [
    "**What is a model?** A simplified, mathematical description of a physical system. For solid mechanics:\n",
    "- Governing equations (e.g., equilibrium, compatibility, constitutive law).\n",
    "- Domain $\\Omega$ and boundary $\\partial\\Omega$ with **boundary conditions** (Dirichlet: displacements; Neumann: tractions).\n",
    "\n",
    "**From PDE to algebra:**\n",
    "1. Start with strong form (differential equations).\n",
    "2. Derive weak/variational form (integrate by parts; natural vs essential BCs emerge).\n",
    "3. Discretize the domain (mesh) and the solution space (shape functions).\n",
    "4. Assemble linear system: $K u = f$.\n",
    "\n",
    "**Three pillars of a good numerical method**\n",
    "- **Consistency:** Discretization matches the continuous equations (as $h\\to0$, truncation error $\\to 0$).\n",
    "- **Stability:** Errors do not blow up during the computation.\n",
    "- **Convergence:** As the mesh is refined, numerical solution approaches the exact solution.\n",
    "\n",
    "**Validation vs Verification**\n",
    "- **Verification:** Are we solving the equations right? (Code correctness; compare to analytical solutions, Method of Manufactured Solutions.)\n",
    "- **Validation:** Are we solving the right equations? (Compare to experiments/reality.)\n",
    "\n",
    "**Workflow you’ll repeat in FEM**\n",
    "1. Define geometry, materials, BCs/loads.\n",
    "2. Choose discretization (elements, order).\n",
    "3. Assemble $K$ and $f$.\n",
    "4. Apply constraints cleanly.\n",
    "5. Solve, post-process, and check residuals/energy."
   ]
  },
  {
   "cell_type": "markdown",
   "id": "5e88b669",
   "metadata": {},
   "source": [
    "## 3. Linear algebra crash course for FEM"
   ]
  },
  {
   "cell_type": "markdown",
   "id": "51c0755a",
   "metadata": {},
   "source": [
    "**Vectors and inner product**  \n",
    "Given vectors $v,w\\in\\mathbb{R}^n$, inner product $\\langle v,w\\rangle = v^T w$; norm $\\|v\\|_2=\\sqrt{v^T v}$.\n",
    "\n",
    "**Matrices**  \n",
    "- Symmetric Positive Definite (SPD): $x^TAx>0$ for $x\\ne0$. Stiffness matrices in linear elasticity are SPD (after Dirichlet BCs).\n",
    "- Condition number $\\kappa(A)=\\|A\\|\\|A^{-1}\\|$ measures sensitivity: large $\\kappa$ means small changes in $b$ can cause big changes in $x$.\n",
    "- Eigenvalues/eigenvectors: critical for understanding conditioning and convergence of iterative solvers.\n",
    "\n",
    "**Block matrices (assembly view)**  \n",
    "Local element matrices scatter-add into the global $K$—a block-sparse pattern emerges.\n",
    "\n",
    "**Practical tip:** Always inspect residual $r=K u - f$ and report $\\|r\\|_2$."
   ]
  },
  {
   "cell_type": "code",
   "execution_count": null,
   "id": "cda6f8e5",
   "metadata": {},
   "outputs": [],
   "source": [
    "import numpy as np\n",
    "# Condition number demo on a simple tridiagonal family\n",
    "def tridiag_dense(n, a=-1.0, b=2.0, c=-1.0):\n",
    "    A = np.zeros((n,n))\n",
    "    for i in range(n):\n",
    "        A[i,i]=b\n",
    "        if i>0: A[i,i-1]=a\n",
    "        if i<n-1: A[i,i+1]=c\n",
    "    return A\n",
    "\n",
    "for n in [10, 20, 40, 80]:\n",
    "    A = tridiag_dense(n)\n",
    "    print(f\"n={n:>3}  cond2(A)≈ {np.linalg.cond(A):.2e}\")"
   ]
  },
  {
   "cell_type": "markdown",
   "id": "692d2291",
   "metadata": {},
   "source": [
    "## 4. Floating-point arithmetic: precision, stability, and pitfalls"
   ]
  },
  {
   "cell_type": "markdown",
   "id": "65670dcc",
   "metadata": {},
   "source": [
    "- Double precision (IEEE 754) has ~16 decimal digits of precision; rounding happens at each operation.\n",
    "- **Catastrophic cancellation:** subtracting nearly equal numbers loses significant digits.\n",
    "- **Ill-conditioning** amplifies rounding errors (large $\\kappa$).\n",
    "- **Scaling:** Nondimensionalize or scale units so entries in $K$ are of comparable magnitude.\n",
    "\n",
    "**Demo: cancellation**"
   ]
  },
  {
   "cell_type": "code",
   "execution_count": null,
   "id": "54b9276d",
   "metadata": {},
   "outputs": [],
   "source": [
    "import math\n",
    "x = 1e-8\n",
    "a = (1 - math.cos(x)) / (x**2)\n",
    "b = 0.5 * (math.sin(x)/x) * (math.sin(x)/x)  # algebraically equivalent, numerically stable\n",
    "print('Direct  :', a)\n",
    "print('Stable  :', b)\n",
    "print('Abs diff:', abs(a-b))"
   ]
  },
  {
   "cell_type": "markdown",
   "id": "ad3cbda9",
   "metadata": {},
   "source": [
    "## 5. Python quick primer (scientific computing)"
   ]
  },
  {
   "cell_type": "code",
   "execution_count": null,
   "id": "20bfd419",
   "metadata": {},
   "outputs": [],
   "source": [
    "# Basic types & containers\n",
    "x = 3.0; i = 5; v_list = [1,2,3]; t_tuple = (4,5,6)\n",
    "print(type(x), type(i), type(v_list), type(t_tuple))\n",
    "\n",
    "import numpy as np\n",
    "v = np.array([1.,2.,3.]); w = np.array([4.,5.,6.])\n",
    "print('v+w=', v+w)\n",
    "print('v·w=', v@w)\n",
    "print('‖v‖2=', np.linalg.norm(v))"
   ]
  },
  {
   "cell_type": "markdown",
   "id": "6609b162",
   "metadata": {},
   "source": [
    "## 6. Matrix creation & operations in NumPy"
   ]
  },
  {
   "cell_type": "code",
   "execution_count": null,
   "id": "e53121cb",
   "metadata": {},
   "outputs": [],
   "source": [
    "A = np.array([[2., -1., 0.], [-1., 2., -1.], [0., -1., 2.]])\n",
    "b = np.array([1., 0., 1.])\n",
    "x = np.linalg.solve(A, b)\n",
    "r = A@x - b\n",
    "print('x=', x)\n",
    "print('‖r‖2=', np.linalg.norm(r))\n",
    "print('Symmetric?', np.allclose(A, A.T))\n",
    "print('κ(A)=', np.linalg.cond(A))"
   ]
  },
  {
   "cell_type": "markdown",
   "id": "7dc32d0d",
   "metadata": {},
   "source": [
    "## 7. Indexing, slicing, and broadcasting"
   ]
  },
  {
   "cell_type": "code",
   "execution_count": null,
   "id": "ef0c8879",
   "metadata": {},
   "outputs": [],
   "source": [
    "u = np.arange(10.)\n",
    "print('u[2:7]=', u[2:7])\n",
    "print('u[::2]=', u[::2])\n",
    "mask = (u%2==0)\n",
    "print('u[mask]=', u[mask])\n",
    "import numpy as np\n",
    "M = np.ones((3,4)); row = np.array([0.,1.,2.,3.])\n",
    "print('M+row=\\n', M+row)"
   ]
  },
  {
   "cell_type": "markdown",
   "id": "d8ab9713",
   "metadata": {},
   "source": [
    "## 8. Dense vs. sparse matrices (and formats)"
   ]
  },
  {
   "cell_type": "markdown",
   "id": "720b59cc",
   "metadata": {},
   "source": [
    "**Why sparse?** Global stiffness matrices are mostly zeros. Storing only nonzeros saves memory and speeds up operations.\n",
    "\n",
    "**Common formats:**\n",
    "- **COO (Coordinate):** triplets `(row, col, data)`; easy to build incrementally.\n",
    "- **CSR (Compressed Sparse Row):** efficient for matrix–vector products and solves; good final format.\n",
    "\n",
    "**Assembly tip:** accumulate in COO (or Python lists), then convert to CSR once.\n"
   ]
  },
  {
   "cell_type": "code",
   "execution_count": null,
   "id": "ad7b5f98",
   "metadata": {},
   "outputs": [],
   "source": [
    "try:\n",
    "    import scipy.sparse as sp\n",
    "    import scipy.sparse.linalg as spla\n",
    "    HAS_SCIPY=True\n",
    "except Exception:\n",
    "    HAS_SCIPY=False\n",
    "\n",
    "def tridiag_sparse(n, a=-1.0, b=2.0, c=-1.0):\n",
    "    import numpy as np\n",
    "    import scipy.sparse as sp\n",
    "    i = np.arange(n)\n",
    "    data = [a*np.ones(n-1), b*np.ones(n), c*np.ones(n-1)]\n",
    "    offsets = [-1,0,1]\n",
    "    return sp.diags(data, offsets, shape=(n,n), format='csr')\n",
    "\n",
    "if HAS_SCIPY:\n",
    "    A = tridiag_sparse(10)\n",
    "    print('CSR nnz=', A.nnz)\n",
    "else:\n",
    "    print('SciPy not available — skipping sparse demo')"
   ]
  },
  {
   "cell_type": "markdown",
   "id": "d2a10425",
   "metadata": {},
   "source": [
    "## 9. Solving linear systems: direct vs. iterative"
   ]
  },
  {
   "cell_type": "markdown",
   "id": "e70e9b1d",
   "metadata": {},
   "source": [
    "**Direct (LU/Cholesky):** robust, exact up to rounding, but memory-heavy for large sparse systems (fill-in).\n",
    "\n",
    "**Iterative (CG, MINRES, GMRES):** use only matrix–vector products; scale to large systems; require **preconditioning** (e.g., ILU, Jacobi) to converge fast.\n",
    "\n",
    "**Rules of thumb:**\n",
    "- SPD matrix $\\Rightarrow$ Conjugate Gradient (CG) + preconditioner.\n",
    "- Nonsymmetric $\\Rightarrow$ GMRES or BiCGSTAB.\n"
   ]
  },
  {
   "cell_type": "code",
   "execution_count": null,
   "id": "9dc05bda",
   "metadata": {},
   "outputs": [],
   "source": [
    "if HAS_SCIPY:\n",
    "    import numpy as np\n",
    "    import scipy.sparse as sp\n",
    "    import scipy.sparse.linalg as spla\n",
    "    n = 200\n",
    "    A = tridiag_sparse(n)\n",
    "    b = np.ones(n)\n",
    "    x_cg, info = spla.cg(A, b, tol=1e-10, maxiter=1000)\n",
    "    print('CG info (0 means success):', info)\n",
    "    print('Residual:', np.linalg.norm(A@x_cg - b))\n",
    "else:\n",
    "    print('Install SciPy to try CG/GMRES demos.')"
   ]
  },
  {
   "cell_type": "markdown",
   "id": "21d06a22",
   "metadata": {},
   "source": [
    "## 10. Boundary conditions and constraints"
   ]
  },
  {
   "cell_type": "markdown",
   "id": "6ac7543f",
   "metadata": {},
   "source": [
    "**Dirichlet (essential):** prescribed displacements (e.g., $u=0$ at a clamped end).  \n",
    "**Neumann (natural):** prescribed tractions/forces (e.g., end load).\n",
    "\n",
    "**Common implementation strategies:**\n",
    "- **Row/column elimination:** remove constrained DoFs and modify the RHS.\n",
    "- **Penalty method:** add a large value $\\alpha$ on diagonal to enforce $u\\approx u_0$ (choose $\\alpha$ big but not so big that $\\kappa$ explodes).\n",
    "- **Lagrange multipliers:** enforce constraints exactly by augmenting the system (saddle-point structure).\n",
    "\n",
    "**Units & scaling:** Keep $E$, $A$, $L$, loads in consistent units to avoid hidden conditioning issues."
   ]
  },
  {
   "cell_type": "markdown",
   "id": "1f18e59b",
   "metadata": {},
   "source": [
    "## 11. Mini FEM: 1D bar with 2-node linear elements"
   ]
  },
  {
   "cell_type": "markdown",
   "id": "168f40bc",
   "metadata": {},
   "source": [
    "We solve $-(EA\\,u')' = f$ on $[0,L]$ with $u(0)=0$ and traction $t$ at $x=L$.\n",
    "\n",
    "**Element matrix:** For uniform element length $h$,  \n",
    "$k_e = \\dfrac{EA}{h} \\begin{bmatrix}1 & -1\\\\-1 & 1\\end{bmatrix}$.\n",
    "\n",
    "**Assembly:** Scatter-add $k_e$ into global $K$ using the element connectivity.  \n",
    "**BCs:** Apply Dirichlet at node 0 via row/column elimination; Neumann enters as a force on the last node.  \n",
    "**Post-process:** $\\varepsilon = u'\\approx (u_{i+1}-u_i)/h$, $\\sigma=E\\,\\varepsilon$."
   ]
  },
  {
   "cell_type": "code",
   "execution_count": null,
   "id": "21a67010",
   "metadata": {},
   "outputs": [],
   "source": [
    "import numpy as np\n",
    "def fem_1d_bar(E=210e9, A=1e-4, L=1.0, Ne=10, body=0.0, traction=1000.0):\n",
    "    nn = Ne + 1\n",
    "    h  = L / Ne\n",
    "    K  = np.zeros((nn, nn))\n",
    "    f  = np.zeros(nn)\n",
    "\n",
    "    ke = (E*A/h) * np.array([[1., -1.], [-1., 1.]])\n",
    "    fe_body = (body*h/2.0) * np.array([1., 1.])\n",
    "\n",
    "    for e in range(Ne):\n",
    "        n1, n2 = e, e+1\n",
    "        dofs = [n1, n2]\n",
    "        K[np.ix_(dofs, dofs)] += ke\n",
    "        f[dofs] += fe_body\n",
    "\n",
    "    f[-1] += traction\n",
    "\n",
    "    # Dirichlet at node 0: u(0)=0\n",
    "    K = K[1:,1:]\n",
    "    f = f[1:]\n",
    "\n",
    "    u_free = np.linalg.solve(K, f)\n",
    "    u = np.concatenate(([0.0], u_free))\n",
    "    x = np.linspace(0., L, nn)\n",
    "\n",
    "    h = L/Ne\n",
    "    strain = np.diff(u)/h\n",
    "    stress = E*strain\n",
    "    x_mid  = x[:-1] + 0.5*h\n",
    "    return x, u, x_mid, strain, stress\n",
    "\n",
    "x, u, xm, eps, sig = fem_1d_bar(Ne=20)\n",
    "print('Max |u|:', np.max(np.abs(u)))\n",
    "print('Max |σ|:', np.max(np.abs(sig)))"
   ]
  },
  {
   "cell_type": "markdown",
   "id": "0906433b",
   "metadata": {},
   "source": [
    "### Plotting"
   ]
  },
  {
   "cell_type": "code",
   "execution_count": null,
   "id": "f79cd83f",
   "metadata": {},
   "outputs": [],
   "source": [
    "import matplotlib.pyplot as plt\n",
    "plt.figure(); plt.plot(x, u, marker='o'); plt.xlabel('x [m]'); plt.ylabel('u [m]'); plt.title('1D bar — displacement'); plt.show()\n",
    "plt.figure(); plt.plot(xm, sig, marker='s'); plt.xlabel('x [m]'); plt.ylabel('σ [Pa]'); plt.title('1D bar — stress'); plt.show()"
   ]
  },
  {
   "cell_type": "markdown",
   "id": "70c70352",
   "metadata": {},
   "source": [
    "## 12. Exercises (practice)"
   ]
  },
  {
   "cell_type": "markdown",
   "id": "8d782e58",
   "metadata": {},
   "source": [
    "**A. Library warm-up**  \n",
    "1. Use NumPy to create a random SPD matrix via `A = M.T@M + αI`. Solve `Ax=b` and report `‖Ax-b‖2`.\n",
    "2. If SciPy is available, build a sparse 1D Poisson matrix with Dirichlet BCs using COO→CSR and solve with `spsolve`.\n",
    "\n",
    "**B. Linear algebra & conditioning**  \n",
    "1. Compute `cond(A)` for tridiagonal matrices with sizes 20, 40, 80, 160 and plot the trend.  \n",
    "2. Build a **Hilbert** matrix (ill-conditioned) for `n=5..12` and observe solution sensitivity.\n",
    "\n",
    "**C. Floating-point**  \n",
    "1. Reproduce the cancellation example with different `x` values; compare stable vs. unstable formulas.\n",
    "\n",
    "**D. Boundary conditions**  \n",
    "1. Modify the mini FEM to use a penalty method for `u(0)=0` with penalty `α`. Study how `α` affects `κ(K)` and the solution error.\n",
    "\n",
    "**E. Verification**  \n",
    "1. For `body=0`, the analytical solution for end traction `t` is `u(x)=t x/(E A)`. Compare numerical `u` at nodes to the exact values.\n",
    "\n",
    "**F. Stretch goal**  \n",
    "1. Replace the constant `E` with a spatially varying `E(x)`; assemble element-wise using the element midpoint value."
   ]
  }
 ],
 "metadata": {},
 "nbformat": 4,
 "nbformat_minor": 5
}
